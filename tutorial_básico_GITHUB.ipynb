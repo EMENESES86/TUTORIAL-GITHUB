{
 "cells": [
  {
   "cell_type": "markdown",
   "id": "d182bcfa",
   "metadata": {},
   "source": [
    "# 🧠 Tutorial Básico: Usar GitHub con Visual Studio Code\n",
    "\n",
    "## Ing. Edison Meneses MSc.\n",
    "Ingeniero en Sistemas de Información  \n",
    "Magister en Sistemas de Información Mención en Inteligencia de Negocios y Analítica Datos Masivos  \n",
    "emeneses@emenesesdevelopers.com"
   ]
  },
  {
   "cell_type": "markdown",
   "id": "0386faec",
   "metadata": {},
   "source": [
    "# GitHub: https://github.com/EMENESES86\n",
    "\n",
    "[tutorial_básico_GITHUB.ipynb](https://github.com/EMENESES86/TUTORIAL-GITHUB.git)"
   ]
  },
  {
   "cell_type": "markdown",
   "id": "d803449e",
   "metadata": {},
   "source": [
    "_________"
   ]
  },
  {
   "cell_type": "markdown",
   "id": "20ca7399",
   "metadata": {},
   "source": [
    "✅ Requisitos Previos\n",
    "<ul>\n",
    "    <li>Tener instalado Git → https://git-scm.com\n",
    "    <li>Tener una cuenta en GitHub → https://github.com\n",
    "    <li>Tener instalado Visual Studio Code → https://code.visualstudio.com\n",
    "</ul>\n",
    "    "
   ]
  },
  {
   "cell_type": "markdown",
   "id": "4d26ae06",
   "metadata": {},
   "source": [
    "1️⃣ Configurar Git (solo una vez)\n",
    "\n",
    "Abre tu terminal o CMD (o terminal integrada en VSCode) y escribe:<br>\n",
    "Esto le dice a Git quién eres para que lo use en tus commits."
   ]
  },
  {
   "cell_type": "markdown",
   "id": "b200c9aa",
   "metadata": {},
   "source": [
    "git config --global user.name \"Tu Nombre\"<br>\n",
    "git config --global user.email \"tu.email@example.com\""
   ]
  },
  {
   "cell_type": "markdown",
   "id": "8d7aee44",
   "metadata": {},
   "source": [
    "2️⃣ Crear un repositorio en GitHub\n",
    "\n",
    "<li>Ingresa a https://github.com\n",
    "<li>Haz clic en New repository\n",
    "<li>Ponle un nombre, por ejemplo: mi-primer-repo\n",
    "<li>Marca la opción Add a README file\n",
    "<li>Haz clic en Create repository"
   ]
  },
  {
   "cell_type": "markdown",
   "id": "3058b815",
   "metadata": {},
   "source": [
    "__________"
   ]
  },
  {
   "cell_type": "markdown",
   "id": "88ad6715",
   "metadata": {},
   "source": [
    "# 🧩 Usar la Interfaz de Visual Studio Code para Git"
   ]
  },
  {
   "cell_type": "markdown",
   "id": "2e2906c2",
   "metadata": {},
   "source": [
    "## 📌 Paso 1: Abre tu proyecto con VSCode\n",
    "Ya sea que lo hayas clonado o creado desde cero, asegúrate de tener un repositorio Git inicializado (si no, puedes hacerlo desde la terminal con git init)."
   ]
  },
  {
   "cell_type": "markdown",
   "id": "a4674d34",
   "metadata": {},
   "source": [
    "## 📌 Paso 2: Abre la pestaña de Control de Código Fuente\n",
    "\n",
    "En la barra lateral izquierda, haz clic en el ícono de ramita con tres bolitas conectadas:\n",
    "- Este es el panel de Control de Código Fuente (Source Control).\n",
    "- También puedes abrirlo con el atajo: Ctrl + Shift + G."
   ]
  },
  {
   "cell_type": "markdown",
   "id": "4107760a",
   "metadata": {},
   "source": [
    "## 📌 Paso 3: Verás los archivos modificados\n",
    "\n",
    "Cualquier archivo que hayas creado o modificado aparecerá en una lista. Aquí puedes:\n",
    "- Hacer clic sobre ellos para revisar cambios.\n",
    "- Dar clic derecho para agregar (Stage) o deshacer (Discard Changes)."
   ]
  },
  {
   "cell_type": "markdown",
   "id": "57ad0df3",
   "metadata": {},
   "source": [
    "## 📌 Paso 4: Escribe un mensaje de commit\n",
    "\n",
    "1. En la parte superior del panel, hay una caja de texto que dice “Mensaje del commit”.\n",
    "2. Escribe algo como:\n",
    "    - \"Agrego archivo hola.txt\""
   ]
  },
  {
   "cell_type": "markdown",
   "id": "fb10f094",
   "metadata": {},
   "source": [
    "## 📌 Paso 5: Haz clic en el ícono de check (✔️) para confirmar el commit\n",
    "\n",
    "Esto guarda el cambio en tu historial local, pero todavía no lo sube a GitHub."
   ]
  },
  {
   "cell_type": "markdown",
   "id": "ff71fffe",
   "metadata": {},
   "source": [
    "## 📌 Paso 6: Haz push para subir a GitHub\n",
    "\n",
    "1. Haz clic en los tres puntitos arriba a la derecha del panel de Git.\n",
    "2. Selecciona la opción Push:\n",
    "    - Esto enviará tus cambios al repositorio remoto (GitHub).\n",
    "    - Si es la primera vez, puede pedirte que inicies sesión o uses un token."
   ]
  }
 ],
 "metadata": {
  "kernelspec": {
   "display_name": "base",
   "language": "python",
   "name": "python3"
  },
  "language_info": {
   "codemirror_mode": {
    "name": "ipython",
    "version": 3
   },
   "file_extension": ".py",
   "mimetype": "text/x-python",
   "name": "python",
   "nbconvert_exporter": "python",
   "pygments_lexer": "ipython3",
   "version": "3.11.5"
  }
 },
 "nbformat": 4,
 "nbformat_minor": 5
}
